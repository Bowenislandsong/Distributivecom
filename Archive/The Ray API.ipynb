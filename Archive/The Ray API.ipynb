{
 "cells": [
  {
   "cell_type": "code",
   "execution_count": 1,
   "metadata": {
    "collapsed": true
   },
   "outputs": [],
   "source": [
    "import ray"
   ]
  },
  {
   "cell_type": "markdown",
   "metadata": {},
   "source": [
    "# Starting Ray\n",
    "There are two main ways in which Ray can be used. First, you can start all of the relevant Ray processes and shut them all down within the scope of a single script. Second, you can connect to and use an existing Ray cluster."
   ]
  },
  {
   "cell_type": "markdown",
   "metadata": {},
   "source": [
    "## Starting and stopping a cluster within a script\n",
    "\n",
    "One use case is to start all of the relevant Ray processes when you call ray.init and shut them down when the script exits. These processes include local and global schedulers, an object manager, a redis server, and more.\n",
    "\n",
    "**Note:** this approach is limited to a single machine. \n",
    "This can be done as follows."
   ]
  },
  {
   "cell_type": "code",
   "execution_count": 2,
   "metadata": {},
   "outputs": [
    {
     "name": "stdout",
     "output_type": "stream",
     "text": [
      "Waiting for redis server at 127.0.0.1:45530 to respond...\n",
      "Waiting for redis server at 127.0.0.1:10864 to respond...\n",
      "Starting local scheduler with 8 CPUs, 0 GPUs\n",
      "\n",
      "======================================================================\n",
      "View the web UI at http://localhost:8899/notebooks/ray_ui63087.ipynb?token=2c837501cb66d580b7d847a2409a27b9202f0b0640fe13bc\n",
      "======================================================================\n",
      "\n"
     ]
    },
    {
     "data": {
      "text/plain": [
       "{'local_scheduler_socket_names': ['/tmp/scheduler8744153'],\n",
       " 'node_ip_address': '127.0.0.1',\n",
       " 'object_store_addresses': [ObjectStoreAddress(name='/tmp/plasma_store47693603', manager_name='/tmp/plasma_manager76799956', manager_port=65482)],\n",
       " 'redis_address': '127.0.0.1:45530',\n",
       " 'webui_url': 'http://localhost:8899/notebooks/ray_ui63087.ipynb?token=2c837501cb66d580b7d847a2409a27b9202f0b0640fe13bc'}"
      ]
     },
     "execution_count": 2,
     "metadata": {},
     "output_type": "execute_result"
    }
   ],
   "source": [
    "ray.init()"
   ]
  },
  {
   "cell_type": "markdown",
   "metadata": {},
   "source": [
    "If there are GPUs available on the machine, you should specify this with the num_gpus argument. Similarly, you can also specify the number of CPUs with num_cpus."
   ]
  },
  {
   "cell_type": "code",
   "execution_count": 3,
   "metadata": {},
   "outputs": [],
   "source": [
    "#ray.init(num_cpus=20,num_gpus=2)"
   ]
  },
  {
   "cell_type": "markdown",
   "metadata": {},
   "source": [
    "By default, Ray will use psutil.cpu_count() to determine the number of CPUs, and by default the number of GPUs will be zero.\n",
    "\n",
    "Instead of thinking about the number of \"worker\" processes on each node, we prefer to think in terms of the quantities of CPU and GPU resources on each node and to provide the illusion of an infinite pool of workers. Tasks will be assigned to workers based on the availability of resources so as to avoid contention and **not** based on the number of available worker processes."
   ]
  },
  {
   "cell_type": "markdown",
   "metadata": {},
   "source": [
    "## Connecting to an existing cluster\n",
    "\n",
    "Once a Ray cluster has been started, the only thing you need in order to connect to it is the address of the Redis server in the cluster. In this case, your script will not start up or shut down any processes. The cluster and all of its processes may be shared between multiple scripts and multiple users. To do this, you simply need to know the address of the cluser's Redis server. This can be done with a command like the following."
   ]
  },
  {
   "cell_type": "code",
   "execution_count": 4,
   "metadata": {
    "collapsed": true
   },
   "outputs": [],
   "source": [
    "# ray.init(redis_address=\"12.345.67.89:6379\")"
   ]
  },
  {
   "cell_type": "markdown",
   "metadata": {},
   "source": [
    "In this case, you cannot specify num_cpus or num_gpus in ray.init because that information is passed into the cluster when the cluster is started, not when your script is started.\n",
    "\n",
    "ray.**init** *(redis_address=None, node_ip_address=None, object_id_seed=None, num_workers=None, driver_mode=0, redirect_output=False, num_cpus=None, num_gpus=None, num_custom_resource=None, num_redis_shards=None, plasma_directory=None, huge_pages=False)*\n",
    "\n",
    "**Parameters**\n",
    "* **redis_address** (*str*) - The address of the Redis server to connect to. If this address is not provided, then this command will start Redis, a global scheduler, a local scheduler, a plasma store, a plasma manager, and some workers. It will also kill these processes when Python exists.\n",
    "\n",
    "* **object_id_seed** (*int*) - Used to seed the **deterministic generation** of object IDs. The same value can be used across multiple runs of the same job in order to generate the object IDs in a consistent manner. However, the same ID should not be used for different jobs.\n",
    "\n",
    "* **num_workers** (*int*) - The number of workers to start. This is **only** provided if redis_address is not provided. \n",
    "\n",
    "* **driver_mode** (*bool*) - The mode in which to start the driver. This should be one of ray.SCRIPT_MODE, ray.PYTHON_MODE, and ray.SILENT_MODE.\n",
    "\n",
    "* **redirect_output** (*bool*) - True if stdout and stderr for all the processes should be redirected to files and false otherwise.\n",
    "\n",
    "* **num_cpus** (*int*) - Number of cpus the user wishes all **local schedulers** to be configured with.\n",
    "\n",
    "* **num_gpus** (*int*) - Number of gpus the user wishes all **local schedulers** to be configured with. \n",
    "\n",
    "* **num_custom_resource** (*int*) - The quantity of a user-defined custom resource that the local scheduler should be configured with. This flag is experimental and is subject to changes in the future.\n",
    "\n",
    "* **num_redis_shards** - The number of Redis shards to start in addition to the primary Redis shard. \n",
    "\n",
    "* **plasma_directory** - A directory where the Plasma memory mapped files will be created. \n",
    "\n",
    "* **huge_pages** - Boolean flag indicating whether to start the Object Store with hugetlbfs support. Requires plasma_directory. \n",
    "\n",
    "**Returns** Address information about the started processes.\n",
    "\n",
    "**Raises** Exception - An exception is raised if an inappropriate combination of arguments is passed in. "
   ]
  },
  {
   "cell_type": "markdown",
   "metadata": {},
   "source": [
    "# Defining Remote Functions\n",
    "\n",
    "Remote functions are used to create tasks. To define a remote function, the @ray.remote decorator is placed over the function definition.\n",
    "\n",
    "The function can then be invoked with f.remote. Invoking the function creates a **task** which will be scheduled on and executed by some worker process in the Ray cluster. The call will return an **object ID** (essentially a *future*) representing the eventual return value of the task. Anyone with the object ID can retrieve its value, regardless of where the task was executed.\n",
    "\n",
    "When a task executes, its outputs will be serialized into a string of bytes and stored in the object store.\n",
    "\n",
    "Note that arguments to remote functions can be values or object IDs."
   ]
  },
  {
   "cell_type": "code",
   "execution_count": 5,
   "metadata": {},
   "outputs": [
    {
     "data": {
      "text/plain": [
       "1"
      ]
     },
     "execution_count": 5,
     "metadata": {},
     "output_type": "execute_result"
    }
   ],
   "source": [
    "@ray.remote\n",
    "def f(x):\n",
    "    return x+1\n",
    "\n",
    "x_id = f.remote(0)\n",
    "ray.get(x_id)  # 1\n",
    "\n",
    "#y_id = f.remote(x_id)\n",
    "#ray.get(y_id)  # 2"
   ]
  },
  {
   "cell_type": "markdown",
   "metadata": {},
   "source": [
    "If you want a remote function to return multiple object IDs, you can do that by passing the num_return_vals argument into the remote **decorator**."
   ]
  },
  {
   "cell_type": "code",
   "execution_count": 6,
   "metadata": {},
   "outputs": [
    {
     "data": {
      "text/plain": [
       "1"
      ]
     },
     "execution_count": 6,
     "metadata": {},
     "output_type": "execute_result"
    }
   ],
   "source": [
    "@ray.remote(num_return_vals=2)\n",
    "def f():\n",
    "    return 1,2\n",
    "\n",
    "x_id, y_id = f.remote()\n",
    "ray.get(x_id) #1\n",
    "#ray.get(y_id) #2"
   ]
  },
  {
   "cell_type": "markdown",
   "metadata": {},
   "source": [
    "ray.**remote** (\\*args *,* \\*\\*kwargs)\n",
    "    \n",
    "   This decorator is used to define remote functions and to define actors.\n",
    "    \n",
    "   **Parameters**\n",
    "   * **num_return_vals** (*int*) - The number of object IDs that a call to this function should return. \n",
    "   \n",
    "   * **num_cpus** (*int*) - The number of CPUs needed to execute this function.\n",
    "   \n",
    "   * **num_gpus** (*int*) - The number of GPUs needed to execute this function.\n",
    "   \n",
    "   * **num_custom_resource** (*int*) - The quantity of a user-defined custom resource that is needed to execute this function. This flag is experimental and is subject to changes in the future.\n",
    "   \n",
    "   * **max_calls** (*int*) - The maximum number of tasks of this kind that can be run on a worker before the worker needs to be restarted. \n",
    "   \n",
    "   * **checkpoint_interval** (*int*) - The number of tasks to run between checkpoints of the actor state. "
   ]
  },
  {
   "cell_type": "markdown",
   "metadata": {},
   "source": [
    "# Getting Values from Object IDs\n",
    "\n",
    "Object IDs can be converted into objects by calling ray.get on the object ID. Note that ray.get accepts either a single object ID or a list of object IDs. "
   ]
  },
  {
   "cell_type": "code",
   "execution_count": 7,
   "metadata": {},
   "outputs": [
    {
     "data": {
      "text/plain": [
       "[{'key1': ['value']}, {'key1': ['value']}]"
      ]
     },
     "execution_count": 7,
     "metadata": {},
     "output_type": "execute_result"
    }
   ],
   "source": [
    "@ray.remote\n",
    "def f():\n",
    "    return {'key1': ['value']}\n",
    "\n",
    "# Get one object ID.\n",
    "ray.get(f.remote())  # {'key1': ['value']}\n",
    "\n",
    "# Get a list of object IDs.\n",
    "ray.get([f.remote() for _ in range(2)])  # [{'key1': ['value']}, {'key1': ['value']}]"
   ]
  },
  {
   "cell_type": "markdown",
   "metadata": {},
   "source": [
    "## Numpy arrays\n",
    "**use numpy arrays whenever possible** (efficiency)\n",
    "\n",
    "Any numpy arrays that are part of the serialized object will not be copied out of the object store. They will remain in the object store and the resulting deserialized object will simply have a pointer to the relevant place in the object store’s memory.\n",
    "\n",
    "Since objects in the object store are immutable, this means that if you want to mutate a numpy array that was returned by a remote function, you will have to first copy it.\n",
    "\n",
    "ray.**get** (*object_ids, worker= < ray.worker.Worker object \\>*)\n",
    "\n",
    "Get a remote object or a list of remote objects from the object store. \n",
    "\n",
    "This method blocks until the object corresponding to the object ID is available in the local object store. If this object is not in the local object store, it will be shipped from an object store that has it (once the object has been created). If object_ids is a list, then the objects corresponding to each object in the list will be returned. \n",
    "\n",
    "**Parameters**\n",
    "\n",
    "**object_ids** - Object ID of the object to get or a list of object IDs to get.\n",
    "\n",
    "**Returns** A Python object or a list of Python objects. "
   ]
  },
  {
   "cell_type": "markdown",
   "metadata": {},
   "source": [
    "# Putting Objects in the Object Store\n",
    "\n",
    "The primary way that objects are placed in the object store is by being returned by a task. However, it is also possible to directly place objects in the object store using ray.put."
   ]
  },
  {
   "cell_type": "code",
   "execution_count": 8,
   "metadata": {},
   "outputs": [
    {
     "data": {
      "text/plain": [
       "1"
      ]
     },
     "execution_count": 8,
     "metadata": {},
     "output_type": "execute_result"
    }
   ],
   "source": [
    "x_id = ray.put(1)\n",
    "ray.get(x_id)  # 1"
   ]
  },
  {
   "cell_type": "markdown",
   "metadata": {},
   "source": [
    "The main reason to use ray.put is that you want to pass the same large object into a number of tasks. By first doing ray.put and then passing the resulting object ID into each of the tasks, the large object is copied into the object store only **once**, whereas when we directly pass the object in, it is copied **multiple times**, which is not efficient. "
   ]
  },
  {
   "cell_type": "code",
   "execution_count": 9,
   "metadata": {},
   "outputs": [
    {
     "data": {
      "text/plain": [
       "[ObjectID(7a6e2f40283a3509b1af5cb4102af8b307128c80),\n",
       " ObjectID(a3b373167e62e8a90bbed86f198e6c9f74e72675),\n",
       " ObjectID(2ec2575e40e4d547df08bc7cd5bf11488887abf3),\n",
       " ObjectID(c97709651e3a8af1e67d014f199f582ec1b7d768),\n",
       " ObjectID(608d2755fdda2c66738badf1298e8e4800b6e716),\n",
       " ObjectID(17e5c7856aa9a8116e7df7b74f821be7a11afe70),\n",
       " ObjectID(7261af1696431be9e55c8a27ae0968d3501a0cf6),\n",
       " ObjectID(17e7c39466222de89f1317cbcd08b4f5a003fcf5),\n",
       " ObjectID(9249f0e3037f102049d32e1eb3751da5e1c14509),\n",
       " ObjectID(e65d1627e3935451c925baea662f5e372a588878)]"
      ]
     },
     "execution_count": 9,
     "metadata": {},
     "output_type": "execute_result"
    }
   ],
   "source": [
    "import numpy as np\n",
    "\n",
    "@ray.remote\n",
    "def f(x):\n",
    "    pass\n",
    "\n",
    "x = np.zeros(10 ** 6)\n",
    "\n",
    "# Alternative 1: Here, x is copied into the object store 10 times.\n",
    "[f.remote(x) for _ in range(10)]\n",
    "\n",
    "# Alternative 2: Here, x is copied into the object store once.\n",
    "x_id = ray.put(x)\n",
    "[f.remote(x_id) for _ in range(10)]"
   ]
  },
  {
   "cell_type": "markdown",
   "metadata": {},
   "source": [
    "Note that ray.put is called under the hood in a couple situations.\n",
    "\n",
    "* It is called on the values returned by a task.\n",
    "* It is called on the arguments to a task, unless the arguments are Python primitives like integers or short strings, lists, tuples, or dictionaries.\n",
    "\n",
    "ray.**put**(*value, worker= < ray.worker.Worker object >*)\n",
    "\n",
    "Store an object in the object store.\n",
    "\n",
    "**Parameters value** – The Python object to be stored. \n",
    "\n",
    "**Returns** The object ID assigned to this value."
   ]
  },
  {
   "cell_type": "markdown",
   "metadata": {},
   "source": [
    "# Waiting for A Subset of Tasks to Finish\n",
    "\n",
    "It is often desirable to adapt the computation being done based on when different tasks finish. For example, if a bunch of tasks each take a variable length of time, and their results can be processed in any order, then it makes sense to simply process the results in the order that they finish. In other settings, it makes sense to discard straggler tasks whose results may turn out to be negligible to the entire system (dynamic resource allocation).\n",
    "\n",
    "To do this, we introduce the ray.wait primitive, which takes a list of object IDs and returns when a subset of them are available. By default it blocks until a single object is available, but the num_returns value can be specified to wait for a different number. If a timeout argument is passed in, it will block for at most that many milliseconds and may return a list with fewer than num_returns elements.\n",
    "\n",
    "The ray.wait function returns two lists. The first list is a list of object IDs of available objects (of length at most num_returns), and the second list is a list of the remaining object IDs, so the combination of these two lists is equal to the list passed in to ray.wait (up to ordering)."
   ]
  },
  {
   "cell_type": "code",
   "execution_count": 10,
   "metadata": {},
   "outputs": [],
   "source": [
    "import time\n",
    "import numpy as np\n",
    "\n",
    "@ray.remote\n",
    "def f(n):\n",
    "    time.sleep(n)\n",
    "    return n\n",
    "\n",
    "# # Start 3 tasks with different durations.\n",
    "# results = [f.remote(i) for i in range(3)]\n",
    "# # Block until 2 of them have finished.\n",
    "# ready_ids, remaining_ids = ray.wait(results, num_returns=2)\n",
    "\n",
    "# Start 5 tasks with different durations.\n",
    "results = [f.remote(i) for i in range(5)]\n",
    "# Block until 4 of them have finished or 2.5 seconds pass.\n",
    "ready_ids, remaining_ids = ray.wait(results, num_returns=4, timeout=2500)\n",
    "# Task 4 will be finished after 4 seconds.\n",
    "ready_ids_4, remaining_ids_4 = ray.wait(results, num_returns=4, timeout=4000)"
   ]
  },
  {
   "cell_type": "code",
   "execution_count": 11,
   "metadata": {},
   "outputs": [
    {
     "data": {
      "text/plain": [
       "[ObjectID(211bfbe194af83f086d927bf571ed27948cf4623),\n",
       " ObjectID(73eb10386ed354843091f9484f695995705fb7a0),\n",
       " ObjectID(d2b54ccdbba509a50b4e48d3c4291edb98e3a131)]"
      ]
     },
     "execution_count": 11,
     "metadata": {},
     "output_type": "execute_result"
    }
   ],
   "source": [
    "ready_ids"
   ]
  },
  {
   "cell_type": "code",
   "execution_count": 12,
   "metadata": {},
   "outputs": [
    {
     "data": {
      "text/plain": [
       "[ObjectID(270c401fbcf695f6be8c4a94fdcce4a827d0c8d0),\n",
       " ObjectID(bea711fe8694a14c808608f2d7a5fd45b252e441)]"
      ]
     },
     "execution_count": 12,
     "metadata": {},
     "output_type": "execute_result"
    }
   ],
   "source": [
    "remaining_ids"
   ]
  },
  {
   "cell_type": "code",
   "execution_count": 13,
   "metadata": {},
   "outputs": [
    {
     "data": {
      "text/plain": [
       "[ObjectID(211bfbe194af83f086d927bf571ed27948cf4623),\n",
       " ObjectID(73eb10386ed354843091f9484f695995705fb7a0),\n",
       " ObjectID(d2b54ccdbba509a50b4e48d3c4291edb98e3a131),\n",
       " ObjectID(bea711fe8694a14c808608f2d7a5fd45b252e441)]"
      ]
     },
     "execution_count": 13,
     "metadata": {},
     "output_type": "execute_result"
    }
   ],
   "source": [
    "ready_ids_4"
   ]
  },
  {
   "cell_type": "code",
   "execution_count": 14,
   "metadata": {},
   "outputs": [
    {
     "data": {
      "text/plain": [
       "[ObjectID(270c401fbcf695f6be8c4a94fdcce4a827d0c8d0)]"
      ]
     },
     "execution_count": 14,
     "metadata": {},
     "output_type": "execute_result"
    }
   ],
   "source": [
    "remaining_ids_4"
   ]
  },
  {
   "cell_type": "markdown",
   "metadata": {},
   "source": [
    "It is easy to use this construct to create an infinite loop in which multiple tasks are executing, and whenever one task finishes, a new one is launched."
   ]
  },
  {
   "cell_type": "code",
   "execution_count": 23,
   "metadata": {},
   "outputs": [
    {
     "name": "stdout",
     "output_type": "stream",
     "text": [
      "[10]\n",
      "[10]\n",
      "[10]\n",
      "[10]\n",
      "[10]\n",
      "[10]\n",
      "[10]\n",
      "[10]\n",
      "[10]\n",
      "[10]\n"
     ]
    }
   ],
   "source": [
    "@ray.remote\n",
    "def f():\n",
    "    return 10\n",
    "\n",
    "# Start 5 tasks.\n",
    "remaining_ids = [f.remote() for i in range(5)]\n",
    "#print(ray.get(remaining_ids))\n",
    "'''\n",
    "The following few lines is for testing the behavior of the wait method\n",
    "without specifying the number of returning object IDs. Comment it before\n",
    "running the for loop in the original documentation.\n",
    "'''\n",
    "# # Whenever one task finishes, start a new one. \n",
    "# ready_ids, remaining_ids, = ray.wait(remaining_ids, num_returns=3)\n",
    "# # Get the available object and do something with it. \n",
    "# print(ray.get(ready_ids))\n",
    "# # Print out the remaining ids\n",
    "# print(ray.get(remaining_ids))\n",
    "\n",
    "'''\n",
    "Observation: when the number of object IDs to be returned is not specified,\n",
    "the wait method will automatically set it to 1. \n",
    "'''\n",
    "for _ in range(10):\n",
    "    # actually this only works when num_returns = 1, otherwise it will \n",
    "    # result in a dead kernel since finally the number of remaining IDs \n",
    "    # will be 0\n",
    "    ready_ids, remaining_ids = ray.wait(remaining_ids)\n",
    "    #print(ray.get(remaining_ids))\n",
    "    # Get the available object and do something with it. \n",
    "    print(ray.get(ready_ids))\n",
    "    # Start a new task. The number of remaining IDs will be consistent.\n",
    "    remaining_ids.append(f.remote())"
   ]
  },
  {
   "cell_type": "markdown",
   "metadata": {},
   "source": [
    "ray.**wait** (*object_ids, num_returns=1, timeout=None, worker= < ray.worker.Worker object > *)\n",
    "\n",
    "Return a list of IDs that are ready and a list of IDs that are not. \n",
    "\n",
    "If timeout is set, the function returns either when the requested number of IDs are ready or when the timeout is reached, whichever occurs first. If it is not set, the function simply waits until that number of objects is ready and returns that exact number of object IDs.\n",
    "\n",
    "This method returns two lists. The first list consists of object IDs that correspond to objects that are stored in the object store. The second list corresponds to the rest of the object IDs (which may or may not be ready).\n",
    "\n",
    "**Parameters**\n",
    "\n",
    "* **object_ids** (*List [Object ID]*) - List of object IDs for objects that may or may not be ready. Note that these IDs must be unique. \n",
    "* **num_returns** (*int*) - The number of object IDs that should be returned. \n",
    "* **timeout** (*int*) - The maximum amount of time in milliseconds to wait before returning. \n",
    "\n",
    "**Returns**\n",
    "\n",
    "** A list of object IDs that are ready and a list of the remaining object IDs.**"
   ]
  },
  {
   "cell_type": "markdown",
   "metadata": {},
   "source": [
    "# Viewing errors\n",
    "\n",
    "Keeping track of errors that occur in different processes throughout a cluster can be challenging. There are a couple mechanisms to help with this.\n",
    "\n",
    "1. If a task throw an exception, that exception will be printed in the background of the driver process. \n",
    "\n",
    "2. If ray.get is called on an object ID whose parent task threw an exception before creating the object, the exception will be re-raised by ray.get\n",
    "\n",
    "The errors will also be accumulated in Redis and can be accessed with ray.error_info. Normally, you shouldn't need to do this, but it is possible. "
   ]
  },
  {
   "cell_type": "code",
   "execution_count": 24,
   "metadata": {},
   "outputs": [
    {
     "name": "stdout",
     "output_type": "stream",
     "text": [
      "Remote function \u001b[31m__main__.f\u001b[39m failed with:\n",
      "\n",
      "Traceback (most recent call last):\n",
      "  File \"<ipython-input-24-d214de529b7d>\", line 3, in f\n",
      "Exception: This task failed!!\n",
      "\n",
      "\n",
      "  You can inspect errors by running\n",
      "\n",
      "      ray.error_info()\n",
      "\n",
      "  If this driver is hanging, start a new one with\n",
      "\n",
      "      ray.init(redis_address=\"127.0.0.1:45530\")\n",
      "  \n"
     ]
    },
    {
     "data": {
      "text/plain": [
       "[{b'data': b\"{'function_id': b'\\\\x13\\\\xea=\\\\x05J\\\\xf6\\\\xb0\\\\x16\\\\xbc\\\\xa9\\\\xe4\\\\xb1\\\\xb6\\\\xc8\\\\xd7\\\\xb7\\\\x88\\\\xa0\\\\xc4\\\\xe9', 'function_name': '__main__.f'}\",\n",
       "  b'message': b'Remote function \\x1b[31m__main__.f\\x1b[39m failed with:\\n\\nTraceback (most recent call last):\\n  File \"<ipython-input-24-d214de529b7d>\", line 3, in f\\nException: This task failed!!\\n',\n",
       "  b'type': b'task'}]"
      ]
     },
     "execution_count": 24,
     "metadata": {},
     "output_type": "execute_result"
    }
   ],
   "source": [
    "@ray.remote\n",
    "def f():\n",
    "    raise Exception(\"This task failed!!\")\n",
    "    \n",
    "f.remote()  # An error message will be printed in the background.\n",
    "\n",
    "# Wait for the error to propagate to Redis.\n",
    "import time\n",
    "time.sleep(1)\n",
    "\n",
    "ray.error_info()  # This returns a list containing the error message. "
   ]
  },
  {
   "cell_type": "markdown",
   "metadata": {},
   "source": [
    "ray.**error_info** (*worker= < ray.worker.Worker object >*)\n",
    "\n",
    "Return information about failed tasks. "
   ]
  }
 ],
 "metadata": {
  "kernelspec": {
   "display_name": "Python 3",
   "language": "python",
   "name": "python3"
  },
  "language_info": {
   "codemirror_mode": {
    "name": "ipython",
    "version": 3
   },
   "file_extension": ".py",
   "mimetype": "text/x-python",
   "name": "python",
   "nbconvert_exporter": "python",
   "pygments_lexer": "ipython3",
   "version": "3.6.2"
  }
 },
 "nbformat": 4,
 "nbformat_minor": 2
}
