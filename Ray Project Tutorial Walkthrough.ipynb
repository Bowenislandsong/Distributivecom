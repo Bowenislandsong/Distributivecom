{
 "cells": [
  {
   "cell_type": "markdown",
   "metadata": {},
   "source": [
    "# Tutorial"
   ]
  },
  {
   "cell_type": "markdown",
   "metadata": {},
   "source": [
    "## Overview\n",
    "\n",
    "Ray is a Python-based distributed execution $\\bf engine$. The same code can be run on a single machine to achieve efficient multiprocessing, and it can be used on a cluster for large computations.\n",
    "\n",
    "When using Ray, several processes are involved.\n",
    "\n",
    "   • Multiple $\\bf worker$ processes execute tasks and store results in object stores. Each worker is a separate process.\n",
    "\n",
    "   • One $\\bf \\text{object store}$ per node stores immutable objects in shared memory and allows workers to efficiently share objects on the same node with minimal copying and deserialization.\n",
    "\n",
    "   • One $\\bf \\text{local scheduler}$ per node assigns tasks to workers on the same node.\n",
    "\n",
    "   • A $\\bf \\text{global scheduler}$ receives tasks from local schedulers and assigns them to other local schedulers.\n",
    "\n",
    "   • A $\\bf \\text{driver}$ is the Python process that the user controls. For example, if the user is running a script or using a Python shell, then the driver is the Python process that runs the script or the shell. A driver is similar to a worker in that it can submit tasks to its local scheduler and get objects from the object store, but it is different in that the local scheduler will not assign tasks to the driver to be executed.\n",
    "\n",
    "   • A $\\bf \\text{Redis}$ server maintains much of the system’s state. For example, it keeps track of which objects live on which machines and of the task specifications (but not data). It can also be queried directly for debugging purposes.\n",
    "   \n",
    " ## Starting Ray\n",
    " To start Ray, start Python and run the following commands."
   ]
  },
  {
   "cell_type": "code",
   "execution_count": 1,
   "metadata": {},
   "outputs": [
    {
     "name": "stdout",
     "output_type": "stream",
     "text": [
      "Waiting for redis server at 127.0.0.1:28963 to respond...\n",
      "Waiting for redis server at 127.0.0.1:17657 to respond...\n",
      "Starting local scheduler with 8 CPUs, 0 GPUs\n",
      "\n",
      "======================================================================\n",
      "View the web UI at http://localhost:8889/notebooks/ray_ui44856.ipynb?token=b6270b2019013e9740412c7ef31ccf7c6ad9ad7b147bc2f5\n",
      "======================================================================\n",
      "\n"
     ]
    },
    {
     "data": {
      "text/plain": [
       "{'local_scheduler_socket_names': ['/tmp/scheduler94328991'],\n",
       " 'node_ip_address': '127.0.0.1',\n",
       " 'object_store_addresses': [ObjectStoreAddress(name='/tmp/plasma_store49466806', manager_name='/tmp/plasma_manager5285692', manager_port=44591)],\n",
       " 'redis_address': '127.0.0.1:28963',\n",
       " 'webui_url': 'http://localhost:8889/notebooks/ray_ui44856.ipynb?token=b6270b2019013e9740412c7ef31ccf7c6ad9ad7b147bc2f5'}"
      ]
     },
     "execution_count": 1,
     "metadata": {},
     "output_type": "execute_result"
    }
   ],
   "source": [
    "import ray\n",
    "ray.init()"
   ]
  },
  {
   "cell_type": "markdown",
   "metadata": {},
   "source": [
    "## Immutable remote objects\n",
    "\n",
    "In Ray, we can create and compute on objects. We refer to these objects as $ \\bf \\text{remote objects}$, and we use $\\bf \\text{object IDs}$ to refer to them. Remote objects are stored in $\\bf \\text{object stores}$, and there is $\\bf \\text{one}$ object store $\\bf \\text{per node}$ in the cluster. In the cluster setting, we may $\\bf \\text{not}$ actually know which machine each object lives on.\n",
    "\n",
    "An $\\bf \\text{object ID}$ is essentially a unique ID that can be used to refer to a remote object. If you’re familiar with Futures, our object IDs are conceptually similar.\n",
    "\n",
    "We assume that remote objects are $\\bf \\text{immutable}$. That is, their values cannot be changed after creation. $\\it\\text{This allows remote objects to be replicated in multiple object stores without}$$\\it\\text{needing to synchronize the copies}$."
   ]
  },
  {
   "cell_type": "markdown",
   "metadata": {},
   "source": [
    "### Put and Get\n",
    "\n",
    "The commands ray.get and ray.put can be used to convert between Python objects and object IDs, as shown in the example below."
   ]
  },
  {
   "cell_type": "code",
   "execution_count": 2,
   "metadata": {},
   "outputs": [
    {
     "data": {
      "text/plain": [
       "ObjectID(a5b07911c7d5ec2972539c8bdfa7d33a97fc316f)"
      ]
     },
     "execution_count": 2,
     "metadata": {},
     "output_type": "execute_result"
    }
   ],
   "source": [
    "x = \"example\"\n",
    "ray.put(x)   # Object ID"
   ]
  },
  {
   "cell_type": "markdown",
   "metadata": {},
   "source": [
    "The command ray.put(x) would be run by a worker process or by the driver process (the driver process is the one running your script). It takes a Python object and copies it to the local object store (here local means on the same node). Once the object has been stored in the object store, its value cannot be changed.\n",
    "\n",
    "In addition, ray.put(x) returns an object ID, which is essentially an ID that can be used to refer to the newly created remote object. If we save the object ID in a variable with x_id = ray.put(x), then we can pass x_id into remote functions, and those remote functions will operate on the corresponding remote object.\n",
    "\n",
    "The command ray.get(x_id) takes an object ID and creates a Python object from the corresponding remote object. For some objects like arrays, we can use shared memory and avoid copying the object. For other objects, this copies the object from the object store to the worker process’s heap. If the remote object corresponding to the object ID x_id does not live on the same node as the worker that calls ray.get(x_id), then the remote object will first be transferred from an object store that has it to the object store that needs it."
   ]
  },
  {
   "cell_type": "code",
   "execution_count": 3,
   "metadata": {},
   "outputs": [
    {
     "data": {
      "text/plain": [
       "'example'"
      ]
     },
     "execution_count": 3,
     "metadata": {},
     "output_type": "execute_result"
    }
   ],
   "source": [
    "x_id = ray.put(\"example\")\n",
    "ray.get(x_id)   # \"example\""
   ]
  },
  {
   "cell_type": "markdown",
   "metadata": {},
   "source": [
    "If the remote object corresponding to the object ID x_id has not been created yet, the command ray.get(x_id) will wait until the remote object has been created.\n",
    "\n",
    "A very common use case of ray.get is to get a list of object IDs. In this case, you can call ray. get(object_ids) where object_ids is a list of object IDs."
   ]
  },
  {
   "cell_type": "code",
   "execution_count": 4,
   "metadata": {},
   "outputs": [
    {
     "data": {
      "text/plain": [
       "[0, 1, 2, 3, 4, 5, 6, 7, 8, 9]"
      ]
     },
     "execution_count": 4,
     "metadata": {},
     "output_type": "execute_result"
    }
   ],
   "source": [
    "result_ids = [ray.put(i) for i in range(10)] \n",
    "ray.get(result_ids) # [0, 1, 2, 3, 4, 5, 6, 7, 8, 9]"
   ]
  },
  {
   "cell_type": "markdown",
   "metadata": {},
   "source": [
    "## Asynchronous Computation in Ray\n",
    "\n",
    "Ray enables arbitrary Python functions to be executed asynchronously. This is done by designating a Python function as a $\\bf \\text{remote function}$.\n",
    "\n",
    "For example, a normal Python function looks like this."
   ]
  },
  {
   "cell_type": "code",
   "execution_count": 5,
   "metadata": {
    "collapsed": true
   },
   "outputs": [],
   "source": [
    "def add1(a, b):\n",
    "    return a + b"
   ]
  },
  {
   "cell_type": "markdown",
   "metadata": {},
   "source": [
    "A remote function looks like this."
   ]
  },
  {
   "cell_type": "code",
   "execution_count": 6,
   "metadata": {
    "collapsed": true
   },
   "outputs": [],
   "source": [
    "@ray.remote\n",
    "def add2(a, b):\n",
    "    return a + b"
   ]
  },
  {
   "cell_type": "markdown",
   "metadata": {},
   "source": [
    "### Remote functions\n",
    "\n",
    "Whereas calling add1(1,2) returns 3 and causes the Python interpreter to block until the computation has finished, calling add2.remote(1, 2) immediately returns an object ID and creates a task. The task will be scheduled by the system and executed asynchronously (potentially on a different machine). When the task finishes executing, its return value will be stored in the object store."
   ]
  },
  {
   "cell_type": "code",
   "execution_count": 7,
   "metadata": {},
   "outputs": [
    {
     "data": {
      "text/plain": [
       "3"
      ]
     },
     "execution_count": 7,
     "metadata": {},
     "output_type": "execute_result"
    }
   ],
   "source": [
    "x_id = add2.remote(1, 2)\n",
    "ray.get(x_id)  # 3"
   ]
  },
  {
   "cell_type": "markdown",
   "metadata": {},
   "source": [
    "The following simple example demonstrates how asynchronous tasks can be used to parallelize computation."
   ]
  },
  {
   "cell_type": "code",
   "execution_count": 8,
   "metadata": {},
   "outputs": [
    {
     "data": {
      "text/plain": [
       "[None, None, None, None, None, None, None, None, None, None]"
      ]
     },
     "execution_count": 8,
     "metadata": {},
     "output_type": "execute_result"
    }
   ],
   "source": [
    "import time\n",
    "\n",
    "def f1():\n",
    "    time.sleep(1)\n",
    "    \n",
    "@ray.remote\n",
    "def f2():\n",
    "    time.sleep(1)\n",
    "    \n",
    "# The following takes ten seconds.\n",
    "[f1() for _ in range(10)]\n",
    "\n",
    "# The following takes one second (assuming the system has at least ten CPUs).\n",
    "ray.get([f2.remote() for _ in range(10)])"
   ]
  },
  {
   "cell_type": "markdown",
   "metadata": {},
   "source": [
    "There is a sharp distinction between $\\it \\text{submitting a task}$ and $\\it \\text{executing the task}$. When a remote function is called, the task of executing that function is $\\bf \\text{submitted to a local scheduler}$, and object IDs for the outputs of the task are immediately returned. However, the task will not be executed until the system actually schedules the task on a worker. Task execution is not done lazily. The system moves the input data to the task, and the task will execute $\\bf \\text{as soon as}$ its input dependencies are available and there are enough resources for the computation.\n",
    "\n",
    "$\\bf \\text{When a task is submitted, each argument may be passed in by value or by object ID}$. For example, these lines have the same behavior."
   ]
  },
  {
   "cell_type": "code",
   "execution_count": 9,
   "metadata": {},
   "outputs": [
    {
     "data": {
      "text/plain": [
       "ObjectID(494a4d6b5664c7592e4b8504bb60b73bc48fdbb8)"
      ]
     },
     "execution_count": 9,
     "metadata": {},
     "output_type": "execute_result"
    }
   ],
   "source": [
    "add2.remote(1, 2)\n",
    "add2.remote(1, ray.put(2))\n",
    "add2.remote(ray.put(1), ray.put(2))"
   ]
  },
  {
   "cell_type": "markdown",
   "metadata": {},
   "source": [
    "Remote functions $\\bf \\text{never}$ return actual values, they always return object IDs.\n",
    "\n",
    "When the remote function is actually executed, it operates on $\\bf \\text{Python objects}$. That is, if the remote function was called with any object IDs, the system will retrieve the corresponding objects from the object store.\n",
    "\n",
    "Note that a remote function can return multiple object IDs."
   ]
  },
  {
   "cell_type": "code",
   "execution_count": 10,
   "metadata": {
    "collapsed": true
   },
   "outputs": [],
   "source": [
    "@ray.remote(num_return_vals=3)\n",
    "def return_multiple():\n",
    "    return 1, 2, 3\n",
    "\n",
    "a_id, b_id, c_id = return_multiple.remote()"
   ]
  },
  {
   "cell_type": "markdown",
   "metadata": {},
   "source": [
    "### Expressing dependencies between tasks\n",
    "\n",
    "Programmers can express dependencies between tasks by passing the object ID output of one task as an argument to another task. For example, we can launch three tasks as follows, each of which depends on the previous task."
   ]
  },
  {
   "cell_type": "code",
   "execution_count": 11,
   "metadata": {},
   "outputs": [
    {
     "data": {
      "text/plain": [
       "3"
      ]
     },
     "execution_count": 11,
     "metadata": {},
     "output_type": "execute_result"
    }
   ],
   "source": [
    "@ray.remote\n",
    "def f(x):\n",
    "    return x + 1\n",
    "\n",
    "x = f.remote(0)\n",
    "y = f.remote(x)\n",
    "z = f.remote(y)\n",
    "ray.get(z)  # 3"
   ]
  },
  {
   "cell_type": "markdown",
   "metadata": {},
   "source": [
    "The second task above will not execute until the first has finished, and the third will not execute until the second has finished. In this example, there are no opportunities for parallelism.\n",
    "\n",
    "The ability to compose tasks makes it easy to express interesting dependencies. Consider the following implementation of a tree reduce."
   ]
  },
  {
   "cell_type": "code",
   "execution_count": 13,
   "metadata": {},
   "outputs": [
    {
     "data": {
      "text/plain": [
       "[array([  1.11008555e+01,  -2.13940370e+00,   8.99846779e+00,\n",
       "          2.45649870e+00,  -1.23372043e+01,  -4.68071812e-01,\n",
       "         -8.61800500e+00,   4.72110658e+00,  -9.06703671e+00,\n",
       "          8.73236767e+00,   2.53334744e+00,   7.57010574e+00,\n",
       "          4.47485786e+00,   9.09002021e-01,   5.81313326e+00,\n",
       "         -1.81038109e+01,  -3.46480087e+00,  -2.29575880e+00,\n",
       "         -1.09482880e+01,   7.32369017e+00,   6.32362542e+00,\n",
       "         -1.19661848e+01,   3.43090236e-01,   6.32923335e+00,\n",
       "         -1.74437100e+01,  -5.31133352e+00,   1.82246429e+00,\n",
       "          6.96461496e+00,   1.85737933e+01,  -1.98871228e+00,\n",
       "          1.26901825e+01,  -1.06945691e-01,  -1.94269066e+00,\n",
       "         -1.81334111e+01,  -1.41683547e+00,   7.90486496e+00,\n",
       "          4.07270980e+00,   7.03705479e+00,  -1.31509381e+01,\n",
       "         -2.28156715e+00,   1.25994179e+01,   2.53749544e+00,\n",
       "          9.03084900e-01,  -8.44614160e+00,   1.84376784e+01,\n",
       "          9.36262534e+00,  -1.05133200e+01,  -1.59718501e+00,\n",
       "          1.80370222e+01,  -9.80602502e+00,   2.56240505e+01,\n",
       "          1.17303729e+01,  -3.38007624e+00,  -4.73867859e+00,\n",
       "          2.16153461e+00,   8.30468190e+00,  -2.01484068e+00,\n",
       "         -9.46041096e+00,  -4.89586294e+00,   1.25737664e+01,\n",
       "         -2.58336902e+00,  -2.21568741e+01,  -2.18204905e+00,\n",
       "          1.16251183e+01,   7.92862506e+00,   3.65860457e+00,\n",
       "          1.05476697e+01,  -2.23115294e+00,   9.09344659e+00,\n",
       "          1.19287192e+01,  -1.39035701e+00,   3.07798870e+00,\n",
       "          5.67173222e-01,  -1.12270958e+01,  -4.96567356e+00,\n",
       "          6.31666518e+00,  -1.53732770e+00,  -1.03304335e+01,\n",
       "          5.03797407e+00,   9.53583100e-01,  -6.13650639e+00,\n",
       "         -2.84684438e+00,  -2.08350764e+00,  -6.14060225e+00,\n",
       "         -4.94048386e+00,   9.40705737e+00,   3.90727268e+00,\n",
       "         -2.34753110e+01,   4.06233422e+00,   1.54630961e+01,\n",
       "         -9.49832916e+00,  -7.27416422e+00,  -5.58381792e+00,\n",
       "         -3.53396283e+00,  -6.71640190e+00,  -2.38223125e+01,\n",
       "         -2.41252911e-01,   8.14408589e+00,   4.03991255e-01,\n",
       "          8.36708552e+00,   5.21258024e+00,   1.94987643e+00,\n",
       "         -3.28652129e+00,   6.11597059e+00,  -1.11687656e+01,\n",
       "          8.97672126e+00,   2.92457833e+01,   1.22451319e+01,\n",
       "          9.56008945e+00,  -3.09382928e+01,  -1.17973433e+00,\n",
       "         -6.30784487e+00,  -4.07138057e+00,   2.12066332e+01,\n",
       "          2.27409363e+00,   5.08959001e+00,  -1.04510877e+01,\n",
       "         -3.40510585e+00,  -1.39995524e+00,   2.64235042e+00,\n",
       "          4.34437490e+00,   1.75690808e+01,  -2.62605598e+00,\n",
       "         -3.92407569e+00,  -9.59348039e+00,  -3.65885875e+00,\n",
       "         -1.23420736e+01,   5.29791040e+00,   4.67687595e+00,\n",
       "          7.71737334e+00,  -8.47384142e+00,   3.72246807e+00,\n",
       "          1.74551529e+00,  -9.12661277e-01,   1.25509076e+01,\n",
       "          1.49972260e+01,   3.31505365e+00,  -3.70130879e+00,\n",
       "         -5.45614823e+00,  -2.66362496e+00,  -1.03273275e+01,\n",
       "          3.41563344e+00,  -1.68834927e+00,  -1.69417153e+01,\n",
       "          1.96685925e+00,   4.89822343e+00,  -9.50039634e-01,\n",
       "         -2.21697353e+01,  -3.74881188e+00,  -1.34227881e+01,\n",
       "          6.07735946e+00,  -2.72221898e+00,  -6.59279003e+00,\n",
       "         -2.49424462e+01,  -1.69977486e+01,   5.71817636e+00,\n",
       "          2.36404233e+00,  -5.55973725e+00,   1.40983956e-01,\n",
       "         -2.44599836e+01,   7.29842385e+00,   1.15937712e+01,\n",
       "         -6.89919786e+00,   7.98981235e+00,   1.45526839e+01,\n",
       "         -1.20381934e+01,  -3.18886347e-02,  -5.20489736e+00,\n",
       "         -2.20790002e+00,   3.01905385e+00,  -1.09142562e+00,\n",
       "         -5.10397663e+00,   2.99164352e+00,   2.93140181e+00,\n",
       "          5.13293936e+00,  -2.57759895e+00,  -1.14527323e+01,\n",
       "          1.07259204e+00,   2.41669624e-01,   2.59370081e+00,\n",
       "         -6.71788130e+00,  -1.42927637e+01,   9.13361208e+00,\n",
       "          3.67653195e+00,  -6.00002154e+00,   1.03216049e+01,\n",
       "          3.32251144e-01,  -1.69057315e+01,  -8.65912313e+00,\n",
       "          5.59280968e-01,   7.13152209e-01,  -6.88870638e+00,\n",
       "         -1.29023031e+01,   1.93293806e+01,  -3.23452937e+00,\n",
       "         -3.83454175e+00,   8.05715455e+00,   2.26797942e+01,\n",
       "         -5.02728827e+00,   1.87270708e+01,   3.56865289e+00,\n",
       "          9.90259298e-01,  -1.63313197e+00,   2.55920454e+01,\n",
       "         -5.13947372e+00,  -1.95323336e+00,   2.59176696e+00,\n",
       "         -6.61213622e+00,  -5.91935186e+00,   1.38839548e+01,\n",
       "         -5.73982141e+00,   2.93093955e-01,   1.96837092e+00,\n",
       "          9.72322059e+00,  -8.56931908e+00,   8.27112739e+00,\n",
       "         -7.05887607e+00,  -1.81069892e+00,  -1.34295914e+01,\n",
       "         -7.57927847e+00,  -8.25675370e+00,   1.02485744e+01,\n",
       "         -1.05200519e+01,   5.49856091e+00,   1.04066814e+01,\n",
       "         -3.42636534e+00,   4.28288610e+00,  -7.38064598e+00,\n",
       "         -1.04106767e+01,   1.46074486e+01,   1.36959619e+01,\n",
       "         -1.72891839e+00,  -1.58370884e+01,  -3.68586146e+00,\n",
       "          8.28062745e-01,  -8.72067874e+00,  -1.63912364e+01,\n",
       "         -7.36701191e-01,  -5.16742478e+00,   1.41107513e+01,\n",
       "         -7.75092705e-01,  -2.14877796e+00,  -4.33797348e+00,\n",
       "         -2.18811367e+01,  -1.27130231e+01,  -4.98890164e+00,\n",
       "          3.50485407e+00,  -9.65764410e+00,   8.46344219e+00,\n",
       "         -7.09959896e+00,  -1.02530239e+00,  -2.59003650e+00,\n",
       "         -1.82602053e+00,   2.33970648e+00,   1.22188894e+01,\n",
       "         -1.03706112e+01,   1.01573719e+01,  -1.53801859e+01,\n",
       "          1.24422172e+01,  -3.79760990e+00,   1.14476409e+01,\n",
       "          2.26843772e+00,   4.53217460e+00,  -9.43867013e+00,\n",
       "         -2.79357641e+01,   2.86606941e+00,  -6.86737562e+00,\n",
       "         -8.61154517e-01,  -1.61035811e+01,   1.84442531e+00,\n",
       "          9.45458690e+00,   5.41144203e+00,   7.49045912e+00,\n",
       "          1.00076485e+01,   9.05887149e+00,  -2.23927167e+00,\n",
       "          1.65471505e+01,  -8.71812859e-02,  -2.28894944e+01,\n",
       "          6.11228044e+00,  -4.97850739e+00,  -5.46977283e+00,\n",
       "          3.90478157e+00,   1.03819229e+00,   3.94568109e+00,\n",
       "         -7.40926640e+00,  -1.33696339e+00,   8.49751585e+00,\n",
       "          8.56695611e+00,  -2.35352705e+00,   1.16435704e+01,\n",
       "         -1.91430650e+01,   1.04805823e+01,  -1.08387413e+01,\n",
       "         -8.58308416e+00,  -1.57141230e+01,  -3.70972375e+00,\n",
       "         -3.97938630e+00,  -4.76467653e+00,  -1.50385802e+01,\n",
       "         -5.22011319e+00,   6.31588312e+00,   2.19746894e+00,\n",
       "          4.01262028e+00,  -1.34240177e+00,  -7.67158439e+00,\n",
       "          5.72096756e-01,  -5.70964929e+00,  -9.87190726e+00,\n",
       "          4.25564318e+00,   2.90213799e+00,  -3.42895131e+00,\n",
       "         -1.88274944e+01,   1.21530135e+00,  -6.35103661e+00,\n",
       "         -7.69049395e+00,  -8.52131972e+00,   1.38567172e+00,\n",
       "          1.69035559e+00,   8.43317897e+00,  -1.23672490e+01,\n",
       "          7.68622838e+00,  -1.28735950e+00,   1.13562996e+01,\n",
       "         -1.91221715e+01,   2.10521506e+01,   1.18524440e+01,\n",
       "          8.30137835e+00,   6.69700451e+00,   1.09950561e+00,\n",
       "         -2.37570277e-01,   1.19139932e+01,   8.16396956e+00,\n",
       "         -1.55137242e+01,  -2.04692150e+01,  -3.23250928e+00,\n",
       "          7.18699325e+00,  -7.34483314e+00,  -1.71211175e+01,\n",
       "          6.80696468e+00,  -2.01948263e+01,  -1.05330128e+01,\n",
       "         -7.65409101e+00,  -1.24648124e+01,   1.27787497e+01,\n",
       "          3.56482668e+00,   2.59942494e+00,  -1.25951772e+01,\n",
       "          6.20878535e+00,  -5.59683569e+00,  -1.45302847e+01,\n",
       "          2.65362063e-01,  -7.90507755e+00,   1.23017977e+01,\n",
       "         -2.32781668e+01,  -1.20601774e+00,   5.85577440e+00,\n",
       "          4.89706117e+00,   7.30825536e+00,  -1.44854166e+01,\n",
       "          1.10774657e+01,   1.11644600e+01,  -5.23213213e+00,\n",
       "          1.00896441e+01,  -1.55165725e+01,  -3.18977946e+01,\n",
       "          1.72626555e+01,   3.89934922e+00,  -2.18418352e+01,\n",
       "         -1.33739305e+01,  -1.53818319e+01,  -7.14380242e-01,\n",
       "         -1.71338291e+00,   1.20739188e+01,   1.93785778e+00,\n",
       "         -1.56384410e+00,  -3.84333429e+00,  -2.77431270e+00,\n",
       "         -5.27796808e+00,  -8.47296486e-01,   3.39056806e+00,\n",
       "          1.06463109e+01,   1.21272811e+01,   4.28857602e+00,\n",
       "         -3.90045703e+01,   2.09703444e+01,  -6.72989341e+00,\n",
       "          6.63863134e+00,   8.96033479e+00,  -1.50173246e+01,\n",
       "          2.58519184e+00,   1.62969767e+01,  -4.15427224e+00,\n",
       "          4.01598334e+00,   2.54539192e-01,   1.33015035e+01,\n",
       "         -8.60387569e-02,   8.26944208e+00,   1.92625691e+01,\n",
       "         -3.94637691e+00,  -4.68566365e+00,   9.67360468e-01,\n",
       "          1.89609622e+01,  -1.94730505e+01,   1.18066391e+01,\n",
       "          1.92191353e+01,   1.49015166e+01,  -1.73635639e+00,\n",
       "          5.54815986e-01,  -2.10192791e+00,  -8.97827218e+00,\n",
       "          1.12126370e+00,   7.33685206e+00,  -2.35527910e+00,\n",
       "          6.91714601e+00,  -1.26761723e+01,   2.67409913e+00,\n",
       "          3.15540873e+00,  -2.22867444e+00,  -1.09543646e+01,\n",
       "         -1.75135670e+00,  -1.16195161e+01,  -1.21620799e+00,\n",
       "          5.84117547e+00,  -4.94930746e+00,  -1.25718986e+01,\n",
       "         -6.87869843e+00,   1.72107551e+01,   5.90056742e+00,\n",
       "         -1.58202779e+01,  -1.33384710e+01,  -1.07686738e+01,\n",
       "         -1.01840644e+01,   9.00870697e-01,  -8.77849547e+00,\n",
       "         -1.16029576e+01,   4.41146823e+00,  -1.17066792e+01,\n",
       "          6.55008123e+00,  -8.08576188e+00,   1.32791112e+01,\n",
       "         -2.47130031e+00,  -5.64921346e+00,  -1.48078555e+01,\n",
       "          2.41632209e+00,  -7.89907171e+00,  -2.47976517e-01,\n",
       "         -8.32053852e+00,  -4.10626313e+00,  -1.25685618e+01,\n",
       "          1.83384838e+00,   5.54881922e+00,   5.17048389e+00,\n",
       "          3.02106893e+00,  -2.25809656e+00,  -8.87511111e+00,\n",
       "         -1.89282965e+01,   1.36137449e+01,  -1.46492564e+00,\n",
       "          1.05565601e+01,   1.65473345e+01,   3.36399910e-01,\n",
       "         -2.35659084e+00,  -1.50360789e+01,   1.21098875e+01,\n",
       "          1.10367380e+01,  -3.70147763e+00,  -3.35757847e+00,\n",
       "          1.09232582e+01,   5.46746201e+00,   1.53511035e+01,\n",
       "          1.78072035e+01,  -4.23923452e+00,  -1.76891642e+01,\n",
       "         -1.89947215e+00,  -8.26616981e+00,   1.28020437e+01,\n",
       "         -1.66034462e+00,   2.40812584e+00,  -1.04642727e+01,\n",
       "          5.33178144e+00,   3.07966326e+00,  -1.04603279e+01,\n",
       "         -1.83563100e+01,  -7.44548750e-01,  -3.33010609e-01,\n",
       "          6.43936300e-01,   6.30721479e+00,   1.98704205e+01,\n",
       "          5.94944903e-01,   4.19842430e+00,   1.74497279e+00,\n",
       "         -6.65144323e-01,   9.85191273e+00,  -7.41092433e+00,\n",
       "         -1.99454409e+00,   6.64092187e+00,  -5.75777197e-01,\n",
       "         -9.60589907e+00,   1.28761337e+00,  -1.04904603e+01,\n",
       "          2.15469656e+01,  -1.69083782e+00,  -3.96722702e+00,\n",
       "          1.81568369e+01,  -5.14320322e+00,  -1.31277896e+00,\n",
       "          8.00331522e-01,  -1.29613182e+01,   2.69542906e+00,\n",
       "         -2.14079791e+01,  -1.27028604e+01,   1.29728451e+01,\n",
       "          5.07377797e-01,   1.52368504e+01,  -6.69043826e+00,\n",
       "         -2.37962438e+01,  -4.14378830e+00,   7.89596165e-01,\n",
       "          6.04824456e+00,   9.42349841e+00,   7.82417435e+00,\n",
       "         -4.16867396e+00,  -1.06361375e+01,   7.63141429e-01,\n",
       "          1.88176375e+01,   2.98988253e+00,  -3.20150358e-01,\n",
       "          2.86619645e-01,   1.94311424e+00,   2.01964240e+00,\n",
       "         -1.12026903e+01,   8.93988566e+00,   1.35122971e+01,\n",
       "          7.42525857e+00,   8.72860930e+00,   6.57441061e+00,\n",
       "         -3.01285977e+00,   4.04078963e+00,   4.75600086e+00,\n",
       "         -3.93742529e+00,  -5.16539213e+00,   9.47775916e+00,\n",
       "         -2.01882673e+01,   7.09915700e+00,   3.63145025e+00,\n",
       "          5.82647797e+00,   1.24844265e+00,   7.80479015e+00,\n",
       "          7.35192857e+00,  -8.34029117e+00,  -2.82488218e+00,\n",
       "         -2.25009787e+01,  -1.18592902e+01,  -1.55802201e+00,\n",
       "         -9.85411069e+00,  -9.49917645e+00,  -1.05014044e+01,\n",
       "          4.60172821e+00,   1.22721493e+01,   2.04671401e+01,\n",
       "         -2.68371888e+00,   1.33260923e+01,  -3.02030690e+00,\n",
       "         -1.18900952e+00,  -6.26176657e-01,   9.78077980e+00,\n",
       "         -2.12739229e+01,  -3.96222046e+00,  -3.25388666e+00,\n",
       "         -7.78211981e+00,   1.12221722e+00,  -1.69107488e+01,\n",
       "          9.49577142e+00,  -7.46892347e+00,  -2.75435846e+00,\n",
       "         -8.72451988e+00,   1.34846797e+01,   1.22915788e+01,\n",
       "          3.21119309e+00,   1.19135996e+01,   3.72027083e-01,\n",
       "         -1.99049746e+01,   1.01984428e+01,   6.06531886e+00,\n",
       "         -1.15773069e+01,  -2.89855874e+00,  -6.22282526e+00,\n",
       "         -8.32884767e+00,   1.04536194e+01,   4.10875017e+00,\n",
       "         -1.46317187e+01,  -1.47827843e+01,   1.80822200e-01,\n",
       "         -1.00103164e+00,  -1.73278941e+01,   1.44690574e+01,\n",
       "         -8.40156557e+00,   3.15095522e+00,   7.03147255e+00,\n",
       "          2.01591664e+01,   8.59613546e+00,  -1.17724252e+01,\n",
       "         -2.03189001e+01,   3.32238512e+00,   1.45782857e+00,\n",
       "          2.25249056e+01,  -2.11175366e+00,  -3.23014000e+00,\n",
       "          6.46575152e+00,  -5.58390224e+00,   2.03422262e+01,\n",
       "          1.27124215e+01,   2.05174435e+00,  -6.41479751e+00,\n",
       "         -1.94627813e+00,   4.97800879e+00,   7.48227520e+00,\n",
       "         -3.50657722e+00,   1.22077914e+01,   9.40660490e+00,\n",
       "         -2.35370399e+00,  -3.69498757e+00,   1.31728227e+01,\n",
       "         -1.51135885e+01,  -3.03789264e+00,   1.64642251e+01,\n",
       "          1.74809688e+01,   1.69825038e+01,   1.51747815e+00,\n",
       "         -4.73591426e+00,   3.85635894e-01,   3.52648263e+00,\n",
       "         -1.57523554e+01,  -4.52350513e+00,   8.79008717e+00,\n",
       "         -1.42327324e+01,  -4.82446283e+00,  -8.93533854e+00,\n",
       "         -1.42867658e+01,  -1.00715602e+01,  -4.55063725e+00,\n",
       "          1.25858573e+01,   8.39775419e+00,  -7.34858230e+00,\n",
       "          2.81903010e+00,   5.83025239e+00,   2.48801150e+01,\n",
       "          4.34831512e+00,  -1.10806443e+01,  -1.11086456e+01,\n",
       "         -1.92693492e+00,  -7.10836888e+00,  -5.00946395e-01,\n",
       "         -6.50479639e+00,  -7.54894153e+00,   7.55524462e+00,\n",
       "         -2.45585960e+01,  -3.19506103e+00,  -5.52394803e+00,\n",
       "          7.34995503e+00,   5.42582402e+00,  -1.72583458e+01,\n",
       "         -1.28927099e+01,   1.12430653e+01,  -4.32585331e-01,\n",
       "         -1.26076389e+01,  -1.88023347e+00,  -7.38530220e+00,\n",
       "         -1.45710863e+01,  -1.39372500e+00,   6.43303578e+00,\n",
       "         -3.38183956e+00,  -1.48298438e+00,   5.01759239e+00,\n",
       "          2.32277129e-01,   4.84401542e+00,  -1.32137366e+01,\n",
       "          6.82818819e+00,   5.47897434e+00,   2.12928820e+01,\n",
       "         -3.85891615e+00,  -2.24902013e+01,  -1.33344198e+01,\n",
       "         -1.01279083e+01,  -4.33032635e+00,  -3.11243629e+00,\n",
       "          7.40967160e+00,  -1.11985214e-01,   2.11241002e+00,\n",
       "          3.18809282e+00,   2.47725249e+01,  -2.89983894e-01,\n",
       "         -1.16263147e+01,  -8.19538725e+00,  -1.30355905e-01,\n",
       "          4.35483373e+00,  -9.22155126e+00,   5.78298043e+00,\n",
       "         -1.32816721e+01,  -1.60828104e+01,  -5.87491628e+00,\n",
       "         -3.61876553e+00,  -5.59399031e+00,   6.72293834e+00,\n",
       "         -5.37450430e+00,   1.52897164e+01,   3.48609003e+00,\n",
       "         -1.47132207e+01,  -1.43918436e+01,   6.50041116e+00,\n",
       "          1.20144780e+00,   9.99121366e+00,  -9.14599108e-01,\n",
       "          1.07652912e+01,  -1.48692898e+01,   1.87955489e+01,\n",
       "          1.55745206e+00,  -1.63551928e+00,  -1.07656919e+01,\n",
       "         -1.26711488e+01,   3.75682921e+00,   3.88473179e+00,\n",
       "          2.66317156e+00,   1.66328586e+01,  -2.92585351e+00,\n",
       "          1.31745971e+01,  -9.13827561e+00,   7.27236296e+00,\n",
       "         -2.84410721e+00,  -3.96232894e+00,  -8.39269994e+00,\n",
       "         -1.36068142e+01,  -1.26388365e+01,   2.04173699e+01,\n",
       "         -1.19638771e+01,  -6.70550315e+00,   8.33685569e-01,\n",
       "          4.42474118e+00,  -4.76068628e+00,  -4.51757450e-01,\n",
       "         -4.27010415e+00,   8.37668962e+00,   5.95709839e+00,\n",
       "          9.50843122e+00,   4.56481824e+00,  -9.37085375e+00,\n",
       "         -6.69330937e+00,  -4.63358032e+00,   6.68079709e+00,\n",
       "         -7.24277397e-01,  -5.04767891e+00,   1.17414694e+01,\n",
       "          3.44869735e+00,  -1.83757244e+01,   5.14380317e+00,\n",
       "          2.22324797e+01,  -6.92089791e+00,   1.94062782e+00,\n",
       "         -8.01745705e+00,   5.22743390e+00,  -7.99275566e+00,\n",
       "          1.38767837e+01,  -5.73485021e+00,  -2.46082145e+00,\n",
       "         -1.04535566e+01,  -2.14376398e+01,  -9.75952462e+00,\n",
       "         -2.14607757e+00,  -5.01384841e+00,  -7.46536701e+00,\n",
       "          9.87272831e+00,  -8.07169114e+00,   1.32277797e+00,\n",
       "          9.90407777e+00,  -6.53725755e+00,  -2.10287376e-01,\n",
       "          2.83109896e+00,   4.80596138e+00,  -1.64402112e+01,\n",
       "         -9.18779908e+00,   6.38199064e+00,  -1.34720829e+01,\n",
       "          1.10918273e+01,   2.64909379e+01,  -1.04957231e+01,\n",
       "          1.97893525e+01,   7.90102058e-01,   4.74223548e+00,\n",
       "         -7.51573134e+00,   1.53198625e+01,   1.97134012e+01,\n",
       "         -1.16888158e+01,   7.67259691e+00,   5.79905955e+00,\n",
       "         -7.65874465e+00,   4.40525742e+00,  -1.66718557e+01,\n",
       "         -1.33578360e+01,  -1.03726424e+01,   3.88466306e+00,\n",
       "          7.64659810e+00,   5.04122455e-01,  -4.38405445e-01,\n",
       "          9.62974338e+00,   4.44702573e+00,   9.02818048e+00,\n",
       "         -4.38219075e-01,  -1.27304385e+00,  -5.96863111e+00,\n",
       "         -6.99938776e+00,   4.25474580e+00,  -1.92375009e+01,\n",
       "          9.34690252e+00,   4.12743035e-01,  -3.56719841e+00,\n",
       "          3.83991931e+00,   8.90664018e+00,   2.40607346e+00,\n",
       "          4.21288898e+00,  -6.36733773e+00,   7.70730286e-01,\n",
       "         -5.29418057e+00,   1.17088535e+01,  -4.27940796e+00,\n",
       "         -3.48696720e+00,  -1.08249291e+01,  -1.84679290e+01,\n",
       "         -8.77320066e+00,   4.00879979e+00,   6.43001173e+00,\n",
       "          2.19162740e+00,   9.19915508e+00,  -3.35922489e+00,\n",
       "          5.37011293e+00,  -1.16988324e+00,  -2.80541791e+00,\n",
       "         -1.26955799e+00,  -6.28761137e+00,  -2.24600656e+01,\n",
       "          4.18377506e+00,   1.12781591e+01,   2.54032381e+00,\n",
       "          5.00941638e+00,  -1.16110943e+01,  -5.22142471e-01,\n",
       "         -9.68570003e+00,  -1.46918761e+00,   3.39739203e+00,\n",
       "          8.53527863e+00,  -1.52272337e+01,  -1.33266245e+01,\n",
       "         -5.47601178e+00,   1.78996162e+01,   8.24079398e+00,\n",
       "          1.09266792e+01,  -8.00488130e+00,  -1.26499369e+01,\n",
       "         -9.64625372e+00,  -2.63477200e+00,  -1.37945715e+01,\n",
       "         -6.39318634e+00,   5.80667951e-01,   6.65649494e+00,\n",
       "         -1.70528517e+00,   6.52482420e+00,  -7.94932601e+00,\n",
       "          1.49656703e+01,   3.93694334e+00,   1.59388934e+01,\n",
       "         -7.03686548e+00,  -1.03578516e-02,  -1.36641488e+01,\n",
       "          2.14541430e+01,   1.28464152e+01,   2.64397440e+00,\n",
       "         -6.16556509e+00,  -1.85477478e-01,  -6.81863791e+00,\n",
       "         -6.43929248e+00,  -5.52241901e+00,   4.74495928e+00,\n",
       "          1.34872899e+01,  -3.31955284e+00,   1.26925103e+01,\n",
       "         -1.55339482e+01,   1.98541109e+01,   6.06974326e+00,\n",
       "         -2.50494176e+00,   6.97380271e+00,  -9.95799662e+00,\n",
       "          1.36943838e+01,  -2.09778491e+01,   3.35599848e+00,\n",
       "         -5.67451265e+00,  -3.07115336e+00,   8.18411847e+00,\n",
       "         -2.66642258e+01,   1.39053933e+01,  -6.47201055e+00,\n",
       "         -3.53666674e+01,  -1.50515760e+01,  -2.88206931e+00,\n",
       "          1.14565571e+01,   8.48136402e+00,  -3.62964850e+00,\n",
       "          2.31213220e-01,   5.32117081e+00,  -6.72985038e+00,\n",
       "         -7.66389856e-01,  -3.05756940e+00,  -3.64389396e+00,\n",
       "         -4.51684325e+00,   6.71083204e+00,   9.20798400e+00,\n",
       "         -6.66994190e+00,  -1.30125265e+00,   3.28792467e+00,\n",
       "          9.29809651e-01,  -1.99626759e+01,  -9.88587624e+00,\n",
       "          7.12535170e-01,   1.37453757e+01,   1.53983395e+01,\n",
       "          1.26480682e+01,  -1.11753256e-01,   3.34511710e+00,\n",
       "          2.10814905e+00,   1.84138663e+01,   8.44254020e-02,\n",
       "         -1.42814340e+01,   2.28384287e+00,  -4.31064953e+00,\n",
       "         -4.36398955e+00,   1.43398002e+01,  -1.08090716e+00,\n",
       "         -3.34854580e+00,  -1.94686570e+01,  -4.39550217e+00,\n",
       "         -9.28725439e+00,   2.20067481e+00,   1.52924277e+01,\n",
       "         -3.03411274e+00,  -4.86496201e+00,   8.36219510e+00,\n",
       "         -8.99754421e+00,   6.63047112e+00,   6.75056458e+00,\n",
       "         -9.43795279e+00,   1.83663223e+01,   5.14974511e+00,\n",
       "          8.84859822e+00,  -9.12046551e+00,  -1.42450822e+00,\n",
       "          2.26211296e+00,  -1.87604216e+01,  -8.69331550e+00,\n",
       "          9.78390356e+00,   1.81716183e+01,   4.96717158e+00,\n",
       "          6.32795020e+00,  -3.84933231e+00,   1.33826325e+01,\n",
       "          1.16908381e+01,   7.26193114e+00,  -1.10000238e+01,\n",
       "         -7.33579442e+00,   8.83147965e+00,  -1.02783996e+00,\n",
       "          1.82284816e+01,  -1.13831595e+01,   1.73274272e+00,\n",
       "          5.43768277e+00,   2.44232384e+01,   1.02460739e+01,\n",
       "          4.23721951e+00,   1.23434260e+01,   3.82041430e+00,\n",
       "         -1.46316014e+00,  -6.69401133e-01,   6.41086106e+00,\n",
       "         -1.32507598e-01,   1.12186646e+00,   6.23674134e+00,\n",
       "         -1.38336197e+01,  -8.90429664e+00,  -1.67991954e+00,\n",
       "         -1.42586734e+01,  -8.55197518e+00,  -7.83465414e+00,\n",
       "         -6.23824371e+00,   1.12446532e+00,  -7.20756231e+00,\n",
       "         -6.90949927e+00,   3.00084829e+00,   1.29369202e+01,\n",
       "          5.07765794e+00,  -1.99631569e+00,  -3.19300250e+00,\n",
       "         -1.53251095e+01])]"
      ]
     },
     "execution_count": 13,
     "metadata": {},
     "output_type": "execute_result"
    }
   ],
   "source": [
    "import numpy as np\n",
    "\n",
    "@ray.remote\n",
    "def generate_data():\n",
    "    return np.random.normal(size=1000)\n",
    "\n",
    "@ray.remote\n",
    "def aggregate_data(x, y):\n",
    "    return x + y\n",
    "\n",
    "# Generate some random data. This launches 100 tasks that will be scheduled\n",
    "# on various nodes. The resulting data will be distributed around the \n",
    "# cluster.\n",
    "data = [generate_data.remote() for _ in range(100)]\n",
    "\n",
    "# Perform a tree reduce.\n",
    "while len(data) > 1:\n",
    "    data.append(aggregate_data.remote(data.pop(0), data.pop(0)))\n",
    "                \n",
    "# Fetch the result.\n",
    "ray.get(data)"
   ]
  },
  {
   "cell_type": "markdown",
   "metadata": {},
   "source": [
    "### Remote Functions Within Remote Functions\n",
    "\n",
    "So far, we have been calling remote functions only from the driver. But worker processes can also call remote func- tions. To illustrate this, consider the following example."
   ]
  },
  {
   "cell_type": "code",
   "execution_count": 15,
   "metadata": {},
   "outputs": [
    {
     "data": {
      "text/plain": [
       "[45, 55, 65, 75, 85]"
      ]
     },
     "execution_count": 15,
     "metadata": {},
     "output_type": "execute_result"
    }
   ],
   "source": [
    "@ray.remote\n",
    "def sub_experiment(i, j):\n",
    "    # Run the jth sub-experiment for the ith experiment.\n",
    "    return i + j\n",
    "\n",
    "@ray.remote\n",
    "def run_experiment(i):\n",
    "    sub_results = []\n",
    "    # Launch tasks to perform 10 sub-experiments in parallel.\n",
    "    for j in range(10):\n",
    "        sub_results.append(sub_experiment.remote(i, j))\n",
    "    # Return the sum of the results of the sub-experiments.\n",
    "    return sum(ray.get(sub_results))\n",
    "\n",
    "results = [run_experiment.remote(i) for i in range(5)]\n",
    "ray.get(results)  # [45, 55, 65, 75, 85]"
   ]
  }
 ],
 "metadata": {
  "kernelspec": {
   "display_name": "Python 3",
   "language": "python",
   "name": "python3"
  },
  "language_info": {
   "codemirror_mode": {
    "name": "ipython",
    "version": 3
   },
   "file_extension": ".py",
   "mimetype": "text/x-python",
   "name": "python",
   "nbconvert_exporter": "python",
   "pygments_lexer": "ipython3",
   "version": "3.6.2"
  }
 },
 "nbformat": 4,
 "nbformat_minor": 2
}
