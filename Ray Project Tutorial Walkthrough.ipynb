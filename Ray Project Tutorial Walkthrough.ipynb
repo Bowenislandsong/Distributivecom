{
 "cells": [
  {
   "cell_type": "markdown",
   "metadata": {},
   "source": [
    "# Tutorial"
   ]
  },
  {
   "cell_type": "markdown",
   "metadata": {},
   "source": [
    "## Overview\n",
    "\n",
    "Ray is a Python-based distributed execution $\\bf \\text{engine}$. The same code can be run on a single machine to achieve efficient multiprocessing, and it can be used on a cluster for large computations.\n",
    "\n",
    "When using Ray, several processes are involved.\n",
    "\n",
    "   • Multiple $\\bf \\text{worker}$ processes execute tasks and store results in object stores. Each worker is a separate process.\n",
    "\n",
    "   • One $\\bf \\text{object store}$ per node stores immutable objects in shared memory and allows workers to efficiently share objects on the same node with minimal copying and deserialization.\n",
    "\n",
    "   • One $\\bf \\text{local scheduler}$ per node assigns tasks to workers on the same node.\n",
    "\n",
    "   • A $\\bf \\text{global scheduler}$ receives tasks from local schedulers and assigns them to other local schedulers.\n",
    "\n",
    "   • A $\\bf \\text{driver}$ is the Python process that the user controls. For example, if the user is running a script or using a Python shell, then the driver is the Python process that runs the script or the shell. A driver is similar to a worker in that it can submit tasks to its local scheduler and get objects from the object store, but it is different in that the local scheduler will not assign tasks to the driver to be executed.\n",
    "\n",
    "   • A $\\bf \\text{Redis}$ server maintains much of the system’s state. For example, it keeps track of which objects live on which machines and of the task specifications (but not data). It can also be queried directly for debugging purposes.\n",
    "   \n",
    " ## Starting Ray\n",
    " To start Ray, start Python and run the following commands."
   ]
  },
  {
   "cell_type": "code",
   "execution_count": null,
   "metadata": {},
   "outputs": [
    {
     "name": "stdout",
     "output_type": "stream",
     "text": [
      "Some processes that the driver needs to connect to have not registered with Redis, so retrying. Have you run 'ray start' on this node?\n"
     ]
    }
   ],
   "source": [
    "import ray\n",
    "ray.init(\"172.56.22.22:11592\")"
   ]
  },
  {
   "cell_type": "markdown",
   "metadata": {},
   "source": [
    "## Immutable remote objects\n",
    "\n",
    "In Ray, we can create and compute on objects. We refer to these objects as $ \\bf \\text{remote objects}$, and we use $\\bf \\text{object IDs}$ to refer to them. Remote objects are stored in $\\bf \\text{object stores}$, and there is $\\bf \\text{one}$ object store $\\bf \\text{per node}$ in the cluster. In the cluster setting, we may $\\bf \\text{not}$ actually know which machine each object lives on.\n",
    "\n",
    "An $\\bf \\text{object ID}$ is essentially a unique ID that can be used to refer to a remote object. If you’re familiar with Futures, our object IDs are conceptually similar.\n",
    "\n",
    "We assume that remote objects are $\\bf \\text{immutable}$. That is, their values cannot be changed after creation. $\\it\\text{This allows remote objects to be replicated in multiple object stores without}$$\\it\\text{needing to synchronize the copies}$."
   ]
  },
  {
   "cell_type": "markdown",
   "metadata": {},
   "source": [
    "### Put and Get\n",
    "\n",
    "The commands ray.get and ray.put can be used to convert between Python objects and object IDs, as shown in the example below."
   ]
  },
  {
   "cell_type": "code",
   "execution_count": null,
   "metadata": {},
   "outputs": [],
   "source": [
    "x = \"example\"\n",
    "ray.put(x)   # Object ID"
   ]
  },
  {
   "cell_type": "markdown",
   "metadata": {},
   "source": [
    "The command ray.put(x) would be run by a worker process or by the driver process (the driver process is the one running your script). It takes a Python object and copies it to the local object store (here local means on the same node). Once the object has been stored in the object store, its value cannot be changed.\n",
    "\n",
    "In addition, ray.put(x) returns an object ID, which is essentially an ID that can be used to refer to the newly created remote object. If we save the object ID in a variable with x_id = ray.put(x), then we can pass x_id into remote functions, and those remote functions will operate on the corresponding remote object.\n",
    "\n",
    "The command ray.get(x_id) takes an object ID and creates a Python object from the corresponding remote object. For some objects like arrays, we can use shared memory and avoid copying the object. For other objects, this copies the object from the object store to the worker process’s heap. If the remote object corresponding to the object ID x_id does not live on the same node as the worker that calls ray.get(x_id), then the remote object will first be transferred from an object store that has it to the object store that needs it."
   ]
  },
  {
   "cell_type": "code",
   "execution_count": null,
   "metadata": {},
   "outputs": [],
   "source": [
    "x_id = ray.put(\"example\")\n",
    "ray.get(x_id)   # \"example\""
   ]
  },
  {
   "cell_type": "markdown",
   "metadata": {},
   "source": [
    "If the remote object corresponding to the object ID x_id has not been created yet, the command ray.get(x_id) will wait until the remote object has been created.\n",
    "\n",
    "A very common use case of ray.get is to get a list of object IDs. In this case, you can call ray. get(object_ids) where object_ids is a list of object IDs."
   ]
  },
  {
   "cell_type": "code",
   "execution_count": null,
   "metadata": {},
   "outputs": [],
   "source": [
    "result_ids = [ray.put(i) for i in range(10)] \n",
    "ray.get(result_ids) # [0, 1, 2, 3, 4, 5, 6, 7, 8, 9]"
   ]
  },
  {
   "cell_type": "markdown",
   "metadata": {},
   "source": [
    "## Asynchronous Computation in Ray\n",
    "\n",
    "Ray enables arbitrary Python functions to be executed asynchronously. This is done by designating a Python function as a $\\bf \\text{remote function}$.\n",
    "\n",
    "For example, a normal Python function looks like this."
   ]
  },
  {
   "cell_type": "code",
   "execution_count": null,
   "metadata": {
    "collapsed": true
   },
   "outputs": [],
   "source": [
    "def add1(a, b):\n",
    "    return a + b"
   ]
  },
  {
   "cell_type": "markdown",
   "metadata": {},
   "source": [
    "A remote function looks like this."
   ]
  },
  {
   "cell_type": "code",
   "execution_count": null,
   "metadata": {
    "collapsed": true
   },
   "outputs": [],
   "source": [
    "@ray.remote\n",
    "def add2(a, b):\n",
    "    return a + b"
   ]
  },
  {
   "cell_type": "markdown",
   "metadata": {},
   "source": [
    "### Remote functions\n",
    "\n",
    "Whereas calling add1(1,2) returns 3 and causes the Python interpreter to block until the computation has finished, calling add2.remote(1, 2) immediately returns an object ID and creates a task. The task will be scheduled by the system and executed asynchronously (potentially on a different machine). When the task finishes executing, its return value will be stored in the object store."
   ]
  },
  {
   "cell_type": "code",
   "execution_count": null,
   "metadata": {},
   "outputs": [],
   "source": [
    "x_id = add2.remote(1, 2)\n",
    "ray.get(x_id)  # 3"
   ]
  },
  {
   "cell_type": "markdown",
   "metadata": {},
   "source": [
    "The following simple example demonstrates how asynchronous tasks can be used to parallelize computation."
   ]
  },
  {
   "cell_type": "code",
   "execution_count": null,
   "metadata": {},
   "outputs": [],
   "source": [
    "import time\n",
    "\n",
    "def f1():\n",
    "    time.sleep(1)\n",
    "    \n",
    "@ray.remote\n",
    "def f2():\n",
    "    time.sleep(1)\n",
    "    \n",
    "# The following takes ten seconds.\n",
    "[f1() for _ in range(10)]\n",
    "\n",
    "# The following takes one second (assuming the system has at least ten CPUs).\n",
    "ray.get([f2.remote() for _ in range(10)])"
   ]
  },
  {
   "cell_type": "markdown",
   "metadata": {},
   "source": [
    "There is a sharp distinction between $\\it \\text{submitting a task}$ and $\\it \\text{executing the task}$. When a remote function is called, the task of executing that function is $\\bf \\text{submitted to a local scheduler}$, and object IDs for the outputs of the task are immediately returned. However, the task will not be executed until the system actually schedules the task on a worker. Task execution is not done lazily. The system moves the input data to the task, and the task will execute $\\bf \\text{as soon as}$ its input dependencies are available and there are enough resources for the computation.\n",
    "\n",
    "$\\bf \\text{When a task is submitted, each argument may be passed in by value or by object ID}$. For example, these lines have the same behavior."
   ]
  },
  {
   "cell_type": "code",
   "execution_count": null,
   "metadata": {},
   "outputs": [],
   "source": [
    "add2.remote(1, 2)\n",
    "add2.remote(1, ray.put(2))\n",
    "add2.remote(ray.put(1), ray.put(2))"
   ]
  },
  {
   "cell_type": "markdown",
   "metadata": {},
   "source": [
    "Remote functions $\\bf \\text{never}$ return actual values, they always return object IDs.\n",
    "\n",
    "When the remote function is actually executed, it operates on $\\bf \\text{Python objects}$. That is, if the remote function was called with any object IDs, the system will retrieve the corresponding objects from the object store.\n",
    "\n",
    "Note that a remote function can return multiple object IDs."
   ]
  },
  {
   "cell_type": "code",
   "execution_count": null,
   "metadata": {
    "collapsed": true
   },
   "outputs": [],
   "source": [
    "@ray.remote(num_return_vals=3)\n",
    "def return_multiple():\n",
    "    return 1, 2, 3\n",
    "\n",
    "a_id, b_id, c_id = return_multiple.remote()"
   ]
  },
  {
   "cell_type": "markdown",
   "metadata": {},
   "source": [
    "### Expressing dependencies between tasks\n",
    "\n",
    "Programmers can express dependencies between tasks by passing the object ID output of one task as an argument to another task. For example, we can launch three tasks as follows, each of which depends on the previous task."
   ]
  },
  {
   "cell_type": "code",
   "execution_count": null,
   "metadata": {},
   "outputs": [],
   "source": [
    "@ray.remote\n",
    "def f(x):\n",
    "    return x + 1\n",
    "\n",
    "x = f.remote(0)\n",
    "y = f.remote(x)\n",
    "z = f.remote(y)\n",
    "ray.get(z)  # 3"
   ]
  },
  {
   "cell_type": "markdown",
   "metadata": {},
   "source": [
    "The second task above will not execute until the first has finished, and the third will not execute until the second has finished. In this example, there are no opportunities for parallelism.\n",
    "\n",
    "The ability to compose tasks makes it easy to express interesting dependencies. Consider the following implementation of a tree reduce."
   ]
  },
  {
   "cell_type": "code",
   "execution_count": null,
   "metadata": {},
   "outputs": [],
   "source": [
    "import numpy as np\n",
    "\n",
    "@ray.remote\n",
    "def generate_data():\n",
    "    return np.random.normal(size=1000)\n",
    "\n",
    "@ray.remote\n",
    "def aggregate_data(x, y):\n",
    "    return x + y\n",
    "\n",
    "# Generate some random data. This launches 100 tasks that will be scheduled\n",
    "# on various nodes. The resulting data will be distributed around the \n",
    "# cluster.\n",
    "data = [generate_data.remote() for _ in range(100)]\n",
    "\n",
    "# Perform a tree reduce.\n",
    "while len(data) > 1:\n",
    "    data.append(aggregate_data.remote(data.pop(0), data.pop(0)))\n",
    "                \n",
    "# Fetch the result.\n",
    "ray.get(data)"
   ]
  },
  {
   "cell_type": "markdown",
   "metadata": {},
   "source": [
    "### Remote Functions Within Remote Functions\n",
    "\n",
    "So far, we have been calling remote functions only from the driver. But worker processes can also call remote func- tions. To illustrate this, consider the following example."
   ]
  },
  {
   "cell_type": "code",
   "execution_count": null,
   "metadata": {},
   "outputs": [],
   "source": [
    "@ray.remote\n",
    "def sub_experiment(i, j):\n",
    "    # Run the jth sub-experiment for the ith experiment.\n",
    "    return i + j\n",
    "\n",
    "@ray.remote\n",
    "def run_experiment(i):\n",
    "    sub_results = []\n",
    "    # Launch tasks to perform 10 sub-experiments in parallel.\n",
    "    for j in range(10):\n",
    "        sub_results.append(sub_experiment.remote(i, j))\n",
    "    # Return the sum of the results of the sub-experiments.\n",
    "    return sum(ray.get(sub_results))\n",
    "\n",
    "results = [run_experiment.remote(i) for i in range(5)]\n",
    "ray.get(results)  # [45, 55, 65, 75, 85]"
   ]
  },
  {
   "cell_type": "code",
   "execution_count": null,
   "metadata": {
    "collapsed": true
   },
   "outputs": [],
   "source": []
  },
  {
   "cell_type": "code",
   "execution_count": null,
   "metadata": {
    "collapsed": true
   },
   "outputs": [],
   "source": []
  }
 ],
 "metadata": {
  "kernelspec": {
   "display_name": "Python 3",
   "language": "python",
   "name": "python3"
  },
  "language_info": {
   "codemirror_mode": {
    "name": "ipython",
    "version": 3
   },
   "file_extension": ".py",
   "mimetype": "text/x-python",
   "name": "python",
   "nbconvert_exporter": "python",
   "pygments_lexer": "ipython3",
   "version": "3.6.1"
  }
 },
 "nbformat": 4,
 "nbformat_minor": 2
}
